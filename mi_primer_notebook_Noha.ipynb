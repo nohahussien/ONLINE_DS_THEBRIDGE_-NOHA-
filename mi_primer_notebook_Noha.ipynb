{
 "cells": [
  {
   "cell_type": "markdown",
   "id": "c0486da7-5d15-4b92-854a-95e0a20b5845",
   "metadata": {},
   "source": [
    "Aquí está [el enlace](https://github.com/nohahussien/ONLINE_DS_THEBRIDGE_-NOHA-.git) de mi repositorio de GitHub con los ficheros.ipynb subidos."
   ]
  },
  {
   "cell_type": "markdown",
   "id": "6ccb374e-8fc6-42b3-9b18-b07dc45f34da",
   "metadata": {},
   "source": [
    "#                                                      Mis primeros pasos con Markdown...\n",
    ">####                                                        ...son muy buenos"
   ]
  },
  {
   "cell_type": "markdown",
   "id": "6b3c579a-d0d4-4087-8742-5d63e661c49f",
   "metadata": {},
   "source": [
    "<img src=\"Logo.png\" width = \"250\" height = \"100\">"
   ]
  },
  {
   "cell_type": "markdown",
   "id": "e0b276d1-ee4d-42f8-9d3c-41fe6354e06b",
   "metadata": {},
   "source": [
    "**¿Qué es Markdown?**  \n",
    "\n",
    "Lenguaje de marcado que nos permite ***aplicar formato*** a nuestros textos mediante unos caracteres especiales.\n",
    "\n",
    "Lo bueno que tiene es que se edita en texto plano y está integrado en muchísimas herramientas, como *Jupyter Notebook* o *RStudio*."
   ]
  },
  {
   "cell_type": "markdown",
   "id": "81c23aad-7295-4282-aa6c-7fef75904f61",
   "metadata": {},
   "source": [
    "# **Contenidos:**"
   ]
  },
  {
   "cell_type": "markdown",
   "id": "b5dea53d-357f-49ec-b5a6-06e7198adf6c",
   "metadata": {},
   "source": [
    "1. Títulos → se escriben con # al inicio (uno para nivel 1, dos para nivel 2, tres para nivel 3, etc.).\n",
    "\n",
    "- Escribirlos\n",
    "- cambiar el nivel\n",
    "\n",
    "3. Negrita → se coloca el texto entre dos asteriscos.\n",
    "\n",
    "4. Cursiva → se coloca el texto entre un solo asterisco.\n",
    "\n",
    "5. Tachado → se encierra el texto entre dos virgulillas (~~).\n",
    "\n",
    "6. Código en línea → se rodea el texto con una comilla invertida.\n",
    "\n",
    "7. Bloque de código → se usa un bloque de tres comillas invertidas arriba y abajo del texto.\n",
    "\n",
    "8. Lista desordenada → cada ítem comienza con un guion.\n",
    "\n",
    "9. Lista ordenada → cada ítem comienza con un número seguido de un punto.\n",
    "\n",
    "10. Citas → se inicia la línea con el símbolo “>”.\n",
    "\n",
    "> para excribir una cita\n",
    "\n",
    "12. Enlaces → se escribe un texto entre corchetes seguido del enlace entre paréntesis.\n",
    "\n",
    "13. Imágenes → igual que los enlaces, pero con un signo de exclamación al inicio.\n",
    "\n",
    "14. Tablas → se construyen con barras verticales “|” y guiones para separar columnas y filas.\n",
    "\n",
    "15. Fórmulas matemáticas (LaTeX) → se escribe la fórmula entre símbolos de dólar $ ... $ (una vez para fórmulas en línea, dos veces para fórmulas en bloque)."
   ]
  },
  {
   "cell_type": "markdown",
   "id": "e4d38b94-6cf4-4137-a0b7-a6648f1a5055",
   "metadata": {},
   "source": [
    "#### Las partes que me acuestan mucho son..."
   ]
  },
  {
   "cell_type": "markdown",
   "id": "3abc09a5-efa7-4bb5-9655-5a90308cf172",
   "metadata": {},
   "source": [
    "Inluir un [Enlace](https://www.google.com/) en el texto. Pero siempre puedo leer la parte de [*los contenidos*](#Contenidos:) y luego puedo practicar muchas cosas como,    \n",
    "- saltar linea\n",
    "- Bloque de codigo"
   ]
  },
  {
   "cell_type": "code",
   "execution_count": null,
   "id": "73eb71a5-0ba0-4b7c-ac30-6fa02ef6ce2b",
   "metadata": {},
   "outputs": [],
   "source": []
  }
 ],
 "metadata": {
  "kernelspec": {
   "display_name": "Python 3 (ipykernel)",
   "language": "python",
   "name": "python3"
  },
  "language_info": {
   "codemirror_mode": {
    "name": "ipython",
    "version": 3
   },
   "file_extension": ".py",
   "mimetype": "text/x-python",
   "name": "python",
   "nbconvert_exporter": "python",
   "pygments_lexer": "ipython3",
   "version": "3.10.11"
  }
 },
 "nbformat": 4,
 "nbformat_minor": 5
}
