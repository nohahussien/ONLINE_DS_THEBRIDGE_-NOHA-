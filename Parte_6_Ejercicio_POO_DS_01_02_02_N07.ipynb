{
  "cells": [
    {
      "cell_type": "markdown",
      "metadata": {
        "id": "vigJnuAMSU4x"
      },
      "source": [
        "![TheBridge_logo_RGB_color.jpg](attachment:TheBridge_logo_RGB_color.jpg)"
      ]
    },
    {
      "cell_type": "markdown",
      "metadata": {
        "id": "2xmnwM17SU4y"
      },
      "source": [
        "![ejercicios.png](attachment:ejercicios.png)"
      ]
    },
    {
      "cell_type": "code",
      "execution_count": null,
      "metadata": {},
      "outputs": [
        {
          "name": "stdout",
          "output_type": "stream",
          "text": [
            "39\n"
          ]
        }
      ],
      "source": []
    },
    {
      "cell_type": "markdown",
      "metadata": {
        "id": "liorA-1ZSU4y"
      },
      "source": [
        "# Ejercicios Clases y Objetos"
      ]
    },
    {
      "cell_type": "markdown",
      "metadata": {
        "id": "5xXUz5l9SU4z"
      },
      "source": [
        "## Ejercicio 1\n",
        "Somos una empresa que tiene varias tiendas de electrodomesticos. Necesitamos un programa para manejar las tiendas, ver las ventas que han tenido, cuántos empleados hay, etc... Para ello vamos a modelizar la tienda en una clase, que tendrá las siguientes características:\n",
        "* Nombre clase: \"Tienda\"\n",
        "* Atributos comunes:\n",
        "    * Tipo: \"Electrodomésticos\"\n",
        "    * Abierta: True\n",
        "* Atributos propios de cada tienda:\n",
        "    * Nombre - String\n",
        "    * Dirección - String\n",
        "    * Número de empleados - int\n",
        "    * Ventas ultimos 3 meses - Lista de 3 numeros\n",
        "* Método para calcular las ventas de todos los meses, que devuelva un numero con todas las ventas.\n",
        "* Método que calcula la media de ventas de los ultimos meses, por empleado\n",
        "* Método que devuelve en un string el nombre de la tienda, junto con su dirección.\n",
        "* Método que obtiene las ventas del último mes.\n",
        "* Método para dar una proyección de las ventas en caso de haber invertido X dinero en marketing en esa tienda. Siendo X el parámetro de entrada. Si X es menor de 1000, las ventas de los ultimos 3 meses hubiesen sido de (1.2 x ventas), si es mayor o igual de 1000, las ventas hubiesen sido de (1.5 x venta). El método reescribe el atributo de ventas en los últimos 3 meses, y además devuelve las ventas con el aumento.\n",
        "\n",
        "Se pide:\n",
        "1. Implementar la clase \"Tienda\"\n",
        "2. Crear tres tiendas con datos inventados\n",
        "3. Comprueba en al menos una de ellas, todo lo implementado en la clase tienda (sus atributos, media de ventas, ventas/empleado...)\n",
        "3. Calcular las ventas del último mes de todas las tiendas. Para ello usa el bucle `for`\n",
        "4. Imprime por pantalla los nombres de las tiendas cuya dirección lleve el string \"Avenida\"\n",
        "5. Seguro que ya has hecho este apartado... Documenta la clase :)"
      ]
    },
    {
      "cell_type": "code",
      "execution_count": 13,
      "metadata": {
        "id": "5cLQcLxfSU4z"
      },
      "outputs": [
        {
          "name": "stdout",
          "output_type": "stream",
          "text": [
            "tiendaA :\n",
            "Tipo:  Electrodomésticos\n",
            "Direccion:  Vitoria, Avenida Gasteiz\n",
            "ventas de los ultimos 3 meses:  39 mil euros\n",
            "Empleados :  5\n",
            "abierta : True\n",
            "tiendaB :\n",
            "Tipo:  Electrodomésticos\n",
            "Direccion:  Bilbao, Gran Via\n",
            "ventas de los ultimos 3 meses:  61 mil euros\n",
            "Empleados :  6\n",
            "abierta : True\n",
            "tiendaC :\n",
            "Tipo:  Electrodomésticos\n",
            "Direccion:  Durango, Avenida Cervantes\n",
            "ventas de los ultimos 3 meses:  47 mil euros\n",
            "Empleados :  4\n",
            "abierta : True\n",
            "tiendaA\n",
            "tiendaC\n",
            "Ventas_ult_mes en las 3 tiendas:  47\n",
            "Ventas total:  147\n"
          ]
        },
        {
          "ename": "NameError",
          "evalue": "name 'num_empleados' is not defined",
          "output_type": "error",
          "traceback": [
            "\u001b[1;31m---------------------------------------------------------------------------\u001b[0m",
            "\u001b[1;31mNameError\u001b[0m                                 Traceback (most recent call last)",
            "Cell \u001b[1;32mIn[13], line 76\u001b[0m\n\u001b[0;32m     73\u001b[0m \u001b[38;5;28mprint\u001b[39m(\u001b[38;5;124m\"\u001b[39m\u001b[38;5;124mVentas_ult_mes en las 3 tiendas: \u001b[39m\u001b[38;5;124m\"\u001b[39m , ventas_ult_mes)\n\u001b[0;32m     74\u001b[0m \u001b[38;5;28mprint\u001b[39m (\u001b[38;5;124m\"\u001b[39m\u001b[38;5;124mVentas total: \u001b[39m\u001b[38;5;124m\"\u001b[39m, ventas_total)\n\u001b[1;32m---> 76\u001b[0m \u001b[43mtiendaA\u001b[49m\u001b[38;5;241;43m.\u001b[39;49m\u001b[43mventas_empleados\u001b[49m\u001b[43m(\u001b[49m\u001b[43m)\u001b[49m\n",
            "Cell \u001b[1;32mIn[13], line 51\u001b[0m, in \u001b[0;36mTienda.ventas_empleados\u001b[1;34m(self)\u001b[0m\n\u001b[0;32m     50\u001b[0m \u001b[38;5;28;01mdef\u001b[39;00m\u001b[38;5;250m \u001b[39m\u001b[38;5;21mventas_empleados\u001b[39m(\u001b[38;5;28mself\u001b[39m):\n\u001b[1;32m---> 51\u001b[0m     \u001b[38;5;28mself\u001b[39m\u001b[38;5;241m.\u001b[39mnum_empleados \u001b[38;5;241m=\u001b[39m \u001b[43mnum_empleados\u001b[49m\n\u001b[0;32m     53\u001b[0m     \u001b[38;5;28mprint\u001b[39m (ventas_ult_mes \u001b[38;5;241m/\u001b[39m num_empleados )\n",
            "\u001b[1;31mNameError\u001b[0m: name 'num_empleados' is not defined"
          ]
        }
      ],
      "source": [
        "ventasA = [12 , 14, 13] \n",
        "ventasA_ult = sum(ventasA)\n",
        "ventasB = [18, 23, 20]\n",
        "ventasB_ult = sum(ventasB)\n",
        "ventasC = [17, 16, 14]\n",
        "ventasC_ult = sum(ventasC)\n",
        "ventas = [ventasA , ventasB, ventasC]\n",
        "ventas_mixta = ventasA + ventasB + ventasC \n",
        "\n",
        "\n",
        "for venta in ventas:\n",
        "     ventas_ult_mes = sum(ventas[-1])\n",
        "     \n",
        "for venta in ventas_mixta:\n",
        "     ventas_total = sum(ventas_mixta)\n",
        "\n",
        "class Tienda:\n",
        "\n",
        "    def __init__(self, nombre , direccion, num_empleados , ventas_ult , tipo = \"Electrodomésticos\" , abierta = True):\n",
        "        self.nombre = nombre\n",
        "        self.direccion = direccion\n",
        "        self.num_empleados = num_empleados\n",
        "        self.ventas_ult = ventas_ult\n",
        "        self.tipo = tipo\n",
        "        self.abierta = abierta\n",
        "\n",
        "        \n",
        "    def tienda_data(self):\n",
        "        print (self.nombre, \":\")\n",
        "        print (\"Tipo: \", self.tipo)\n",
        "        print(\"Direccion: \" , self.direccion)\n",
        "        print (\"ventas de los ultimos 3 meses: \", self.ventas_ult , \"mil euros\")\n",
        "        print (\"Empleados : \" , self.num_empleados) \n",
        "        print (\"abierta :\" , self.abierta)\n",
        "\n",
        "\n",
        "    def direccion_chequeo(self):\n",
        "        \n",
        "        if \"Avenida\" in str(self.direccion) :\n",
        "            print (self.nombre)\n",
        "            \n",
        "        else:\n",
        "            return None\n",
        "        \n",
        "\n",
        "    def ventas_total(self):\n",
        "         for venta in ventas_ult:\n",
        "            return (sum(self.ventas_ult))\n",
        "            \n",
        "    def ventas_empleados(self):\n",
        "        self.num_empleados = num_empleados\n",
        "    \n",
        "        print (ventas_ult_mes / num_empleados )\n",
        "\n",
        "    \n",
        "\n",
        "tiendaA = Tienda(\"tiendaA\" , \"Vitoria, Avenida Gasteiz\" , 5 , sum(ventasA))\n",
        "tiendaB = Tienda(\"tiendaB\" , \"Bilbao, Gran Via\" , 6 , sum(ventasB))\n",
        "tiendaC = Tienda(\"tiendaC\" , \"Durango, Avenida Cervantes\" , 4 , sum(ventasC))\n",
        "            \n",
        "\n",
        "\n",
        "\n",
        "tiendaA.tienda_data()\n",
        "tiendaB.tienda_data()\n",
        "tiendaC.tienda_data()\n",
        "\n",
        "tiendaA.direccion_chequeo()\n",
        "tiendaB.direccion_chequeo()\n",
        "tiendaC.direccion_chequeo()\n",
        "\n",
        "\n",
        "print(\"Ventas_ult_mes en las 3 tiendas: \" , ventas_ult_mes)\n",
        "print (\"Ventas total: \", ventas_total)\n",
        "\n",
        "tiendaA.ventas_empleados()\n",
        "\n",
        "\n",
        "    \n",
        "        \n",
        "\n",
        "\n"
      ]
    },
    {
      "cell_type": "markdown",
      "metadata": {
        "id": "WEBq7EpsSU40"
      },
      "source": []
    },
    {
      "cell_type": "code",
      "execution_count": null,
      "metadata": {
        "id": "DpEWvbwGSU40"
      },
      "outputs": [],
      "source": []
    },
    {
      "cell_type": "markdown",
      "metadata": {},
      "source": [
        "## Ejercicio 2\n",
        "En este ejercicio vamos a implementar una clase *Perro* en Python. La clase tiene las siguientes características:\n",
        "* Cosas que sabemos seguro que tiene un perro\n",
        "    * Tiene 4 patas\n",
        "    * 2 orejas\n",
        "    * 2 ojos\n",
        "    * Una velocidad de 0. Por defecto, el perro está parado\n",
        "* Cuando se inicialice:\n",
        "    * El perro será de una determinada raza\n",
        "    * Por defecto tendrá pelo \"Marrón\", a no ser que se diga lo contrario.\n",
        "    * Por defecto no tendrá dueño, a no ser que se diga lo contrario.\n",
        "    \n",
        "* Dispondrá también de un método llamado andar, que tiene un argumento de entrada (aumento_velocidad). Este valor se le sumará a la velocidad que ya llevaba el perro.\n",
        "* Necesita otro método (parar), donde pondremos la velocidad a 0.\n",
        "* Otro método llamado \"ladrar\", que tendrá un argumento de entrada, y la salida será el siguiente string: \"GUAU!\" + el argumento de entrada.\n",
        "\n",
        "\n",
        "Se pide:\n",
        "* Implementa la clase *Perro*\n",
        "* Crea un objeto de tipo *Perro*, sin dueño\n",
        "* Comprueba que están bien todos sus atributos\n",
        "* Prueba que ande, y comprueba su velocidad\n",
        "* Páralo\n",
        "* Documenta la clase *Perro*"
      ]
    },
    {
      "cell_type": "code",
      "execution_count": 46,
      "metadata": {},
      "outputs": [
        {
          "name": "stdout",
          "output_type": "stream",
          "text": [
            "Perro de raza:  Pug\n",
            "Dueño:  Nadie\n",
            "Pelo:  Marrón\n",
            "Patas:  4\n",
            "Orejas:  4\n",
            "Ojos:  2\n",
            "velocidad:  0.0\n",
            "**************************************\n",
            "ahore el perro está andando a la velovidad de:  2\n",
            "ahora el perro está parado\n",
            "GUAU!, hola perrito\n"
          ]
        }
      ],
      "source": [
        "class Perro:\n",
        "    def __init__(self, raza, dueño , pelo = \"Marrón\", patas = 4 , orejas = 4 , ojos = 2, velocidad = 0.0):\n",
        "        self.raza = raza\n",
        "        self.dueño = dueño\n",
        "        self.pelo = pelo\n",
        "        self.patas = patas\n",
        "        self.orejas = orejas\n",
        "        self.ojos = ojos\n",
        "        self.velocidad = velocidad\n",
        "    def characteristicas(self):\n",
        "        print ( \"Perro de raza: \", self.raza)        \n",
        "        print (\"Dueño: \", self.dueño)\n",
        "        print(\"Pelo: \" , self.pelo)\n",
        "        print(\"Patas: \", self.patas)\n",
        "        print(\"Orejas: \" , self.orejas)\n",
        "        print(\"Ojos: \", self.ojos)\n",
        "        print(\"velocidad: \", self.velocidad)\n",
        "\n",
        "\n",
        "    def andar(self, aumento_velocidad):\n",
        "        self.aumento_velocidad = aumento_velocidad\n",
        "    \n",
        "        if aumento_velocidad > 0:\n",
        "\n",
        "            print (\"ahore el perro está andando a la velovidad de: \" , aumento_velocidad)\n",
        "        else:\n",
        "            return None\n",
        "        \n",
        "    def parar(self, velocidad):\n",
        "        self.velocidad = velocidad\n",
        "\n",
        "        if velocidad == 0.0 :\n",
        "            print (\"ahora el perro está parado\" )\n",
        "\n",
        "        else:\n",
        "            return None\n",
        "        \n",
        "            \n",
        "    def ladrar(self, saludo):\n",
        "        self.saludo = saludo\n",
        "    \n",
        "        print (\"GUAU!\" + saludo)\n",
        "        \n",
        "\n",
        "                \n",
        "perro_1 = Perro(\"Pug\" , \"Nadie\")\n",
        "perro_1.characteristicas()\n",
        "print (\"**************************************\")\n",
        "\n",
        "perro_1.andar(2)\n",
        "\n",
        "perro_1.parar(0.0)\n",
        "perro_1.ladrar(\", hola perrito\")\n",
        "\n"
      ]
    },
    {
      "cell_type": "code",
      "execution_count": null,
      "metadata": {},
      "outputs": [],
      "source": []
    }
  ],
  "metadata": {
    "colab": {
      "provenance": []
    },
    "kernelspec": {
      "display_name": "Python 3",
      "language": "python",
      "name": "python3"
    },
    "language_info": {
      "codemirror_mode": {
        "name": "ipython",
        "version": 3
      },
      "file_extension": ".py",
      "mimetype": "text/x-python",
      "name": "python",
      "nbconvert_exporter": "python",
      "pygments_lexer": "ipython3",
      "version": "3.10.11"
    }
  },
  "nbformat": 4,
  "nbformat_minor": 0
}
