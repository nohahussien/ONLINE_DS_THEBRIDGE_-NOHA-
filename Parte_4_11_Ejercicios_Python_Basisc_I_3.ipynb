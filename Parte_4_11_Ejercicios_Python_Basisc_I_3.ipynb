{
  "cells": [
    {
      "cell_type": "markdown",
      "metadata": {
        "id": "Vm1aBVxGsL3J"
      },
      "source": [
        "![TheBridge_logo_RGB_color.jpg](attachment:TheBridge_logo_RGB_color.jpg)"
      ]
    },
    {
      "cell_type": "markdown",
      "metadata": {
        "id": "ikQqOiv-sL3Q"
      },
      "source": [
        "![imagen](./img/ejercicios.png)"
      ]
    },
    {
      "cell_type": "markdown",
      "metadata": {
        "id": "DmOn-xOPsL3R"
      },
      "source": [
        "## EJERCICIOS PYTHON BASICO 3:\n",
        "## Operaciones matemáticas, comparación y booleanas"
      ]
    },
    {
      "cell_type": "markdown",
      "metadata": {
        "id": "d89WoAKisL3S"
      },
      "source": [
        "Completa los siguiente ejercicios, la solución completa a los mismos se publicarán en el repo del curso a lo largo del sprint. En algunos ejercicios se muestra la solución final, para que puedas comprobar que lo has hecho bien, pero lo importante es el código que generes. ¡Vaaamos, a ello...!"
      ]
    },
    {
      "cell_type": "markdown",
      "metadata": {
        "id": "FBv3_XapsL3S"
      },
      "source": [
        "![ejercicio.png](./img/ejercicio.png)\n",
        "\n",
        "\n",
        "## Ejercicio 1\n",
        "Tenemos las siguientes variables:\n",
        "\n",
        "```Python\n",
        "A = 4\n",
        "B = \"Text\"\n",
        "C = 4.1\n",
        "```\n",
        "\n",
        "Comprueba:\n",
        "1. Si A y B son equivalentes\n",
        "2. Si A y C NO son equivalentes\n",
        "3. Si A es mayor que C\n",
        "4. Si C es menor o igual que A\n",
        "5. Si B NO es equivalente a C"
      ]
    },
    {
      "cell_type": "code",
      "execution_count": null,
      "metadata": {
        "id": "EudzepmusL3T",
        "outputId": "b501b88d-c8a1-4258-98f9-d7ba5e0ccda6"
      },
      "outputs": [
        {
          "data": {
            "text/plain": [
              "True"
            ]
          },
          "execution_count": 2,
          "metadata": {},
          "output_type": "execute_result"
        }
      ],
      "source": [
        "A = 4\n",
        "B = \"Test\"\n",
        "C = 4.1\n",
        "print (\"A == B : \" , A == B)\n",
        "print (\"A != C : \" , A != C )\n",
        "print (\"A > C : \", A > C )\n",
        "print (\"C <= A : \" , C <= A )\n",
        "print (\"B != C : \" , B != C )"
      ]
    },
    {
      "cell_type": "code",
      "execution_count": null,
      "metadata": {},
      "outputs": [],
      "source": []
    },
    {
      "cell_type": "markdown",
      "metadata": {
        "id": "dO-eSkoRsL3V"
      },
      "source": [
        "![ejercicio.png](./img/ejercicio.png)\n",
        "\n",
        "## Ejercicio 2\n",
        "Crea un programa donde se recojan dos inputs del usuario, y el output del programa sea si esos inputs son iguales o no"
      ]
    },
    {
      "cell_type": "code",
      "execution_count": null,
      "metadata": {
        "id": "qyBZLXZEsL3V"
      },
      "outputs": [],
      "source": [
        "num1 = float(input(\"enter number 1 \"))\n",
        "num2 = float(input(\"enter number 2 \"))\n",
        "if num1 == num2 :\n",
        "    print (\"Los dos numeros son eguales\")\n",
        "else:\n",
        "    print (\"Los dos numeros 'No' son eguales\")"
      ]
    },
    {
      "cell_type": "markdown",
      "metadata": {
        "id": "zFfswswMsL3W"
      },
      "source": [
        "![ejercicio.png](./img/ejercicio.png)\n",
        "\n",
        "## Ejercicio 3\n",
        "Mismo programa que en 2, pero en esta ocasión tienen que ser tres inputs y dos salidas. Una de las salidas que nos indique si todos son iguales, y la otra si al menos dos inputs sí que lo son"
      ]
    },
    {
      "cell_type": "code",
      "execution_count": null,
      "metadata": {
        "id": "W9M9g_b-sL3W",
        "outputId": "af848a51-d210-4476-d479-53b0229d4302"
      },
      "outputs": [],
      "source": [
        "num1 = float(input(\"enter number 1 => \"))\n",
        "num2 = float(input(\"enter number 2 => \"))\n",
        "num3 = float(input(\"enter number 3 => \"))\n",
        "if num1 == num2 == num3:\n",
        "    print (\"Todos los numeros son eguales\")\n",
        "elif num1 == num3 :\n",
        "        print (\"Al menos dos de los numeros son iguales\")\n",
        "elif num1 == num2: \n",
        "        print (\"Al menos dos de los numeros son iguales\")\n",
        "elif num3 == num2: \n",
        "        print (\"Al menos dos de los numeros son iguales\")"
      ]
    },
    {
      "cell_type": "markdown",
      "metadata": {
        "id": "FgoneDuZsL3X"
      },
      "source": [
        "![ejercicio.png](./img/ejercicio.png)\n",
        "\n",
        "## Ejercicio 4\n",
        "Razona sin ejecutar código el output que obtendremos de las siguientes sentencias\n",
        "1. True and True and False\n",
        "2. not ((True or False) and (True or False))\n",
        "3. (False or False or False or True) and False\n",
        "4. not False and True and not True"
      ]
    },
    {
      "cell_type": "markdown",
      "metadata": {
        "id": "pFSI6vjAsL3X"
      },
      "source": [
        "\n",
        "# 1. False : (True and True) is True => True and False => False\n",
        "# 2. False : not ((True ) and (True )) => not True => False\n",
        "# 3. False : (False or False or False or True) and False => (True) and False => False\n",
        "# 4. False : not False and True and not True => True and true and False => True and False => false"
      ]
    }
  ],
  "metadata": {
    "colab": {
      "provenance": []
    },
    "kernelspec": {
      "display_name": "Python 3",
      "language": "python",
      "name": "python3"
    },
    "language_info": {
      "codemirror_mode": {
        "name": "ipython",
        "version": 3
      },
      "file_extension": ".py",
      "mimetype": "text/x-python",
      "name": "python",
      "nbconvert_exporter": "python",
      "pygments_lexer": "ipython3",
      "version": "3.10.11"
    },
    "orig_nbformat": 4
  },
  "nbformat": 4,
  "nbformat_minor": 0
}
