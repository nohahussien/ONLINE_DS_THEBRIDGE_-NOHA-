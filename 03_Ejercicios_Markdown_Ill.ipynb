{
 "cells": [
  {
   "cell_type": "markdown",
   "id": "59ec229f",
   "metadata": {
    "id": "59ec229f"
   },
   "source": [
    "<img src=\"./img/TheBridge_logo_RGB_color.jpg\" width = 500>"
   ]
  },
  {
   "cell_type": "markdown",
   "id": "30a2c01b",
   "metadata": {
    "id": "30a2c01b"
   },
   "source": [
    "# EJERCICIOS MARKDOWN (I)\n",
    "\n",
    "> Añadir blockquote\n",
    "\n"
   ]
  },
  {
   "cell_type": "markdown",
   "id": "e165fb0c",
   "metadata": {
    "id": "e165fb0c"
   },
   "source": [
    "Aquí tienes cinco sencillos ejercicios para practicar lo aprendido en la primera sesión de Markdown. Utiliza las celdas que hay debajo de cada enunciado y recuerda convertirlas a Markdown primero ;-)"
   ]
  },
  {
   "cell_type": "markdown",
   "id": "5f74096f",
   "metadata": {
    "id": "5f74096f"
   },
   "source": [
    "\n",
    "\n",
    "### Ejercicio 1: Cabeceras\n",
    "Crea las siguientes cabeceras:\n",
    "\n",
    "1. Una cabecera de nivel 1 con el texto \"Ciencia de Datos\".\n",
    "2. Una cabecera de nivel 2 con el texto \"Introducción\".\n",
    "3. Una cabecera de nivel 3 con el texto \"Herramientas\"."
   ]
  },
  {
   "cell_type": "code",
   "execution_count": null,
   "id": "8t8-aff14H3x",
   "metadata": {
    "id": "8t8-aff14H3x"
   },
   "outputs": [],
   "source": [
    "#Ciencia de datos\n",
    "##Introcuccion\n",
    "###Herramientas"
   ]
  },
  {
   "cell_type": "markdown",
   "id": "AjjxA1eF4oke",
   "metadata": {
    "id": "AjjxA1eF4oke"
   },
   "source": [
    "# Ciencia de Datos\n",
    "## Introducción\n",
    "### Herramientas"
   ]
  },
  {
   "cell_type": "markdown",
   "id": "4b636168",
   "metadata": {
    "id": "4b636168"
   },
   "source": [
    "### Ejercicio 2: Estilos de texto\n",
    "Escribe una frase que contenga las siguientes características:\n",
    "\n",
    "1. La palabra \"Markdown\" en negritas.\n",
    "2. La palabra \"Jupyter\" en cursivas.\n",
    "3. La palabra \"Python\" en negritas y cursivas."
   ]
  },
  {
   "cell_type": "markdown",
   "id": "e5e956f1-c25c-4609-9ee9-373c6e4b6f51",
   "metadata": {},
   "source": [
    "'Aun no sé muy bien qué significa **markdown**, pero ya tengo algún *jupyter* notebook y ya he comenzado a tocar ***python***'"
   ]
  },
  {
   "cell_type": "markdown",
   "id": "a56e0871-3551-4672-9612-2b3eb1c210bd",
   "metadata": {},
   "source": [
    ">Esta es la frase"
   ]
  },
  {
   "cell_type": "markdown",
   "id": "61fd2979",
   "metadata": {
    "id": "61fd2979"
   },
   "source": [
    "### Ejercicio 3: Resaltados y HTML\n",
    "Crea una línea que contenga:\n",
    "\n",
    "1. La palabra \"resaltado\" con un fondo amarillo usando Markdown.\n",
    "2. La palabra \"color\" en azul usando HTML.\n",
    "\n",
    "Para este ejercicio tendrás que buscar un poco más en internet, venga que tú puedes."
   ]
  },
  {
   "cell_type": "markdown",
   "id": "TVpHOgAM5WTM",
   "metadata": {
    "id": "TVpHOgAM5WTM"
   },
   "source": [
    "\n",
    "<font color=\"blue\">color</font>\n",
    "\n",
    "Para <mark>resaltado</mark> con <font color=\"blue\">color</font> en Markdown, las opciones dependen del procesador de Markdown que estés usando. Markdown puro no soporta colores, pero muchos renderizadores permiten HTML o extensiones."
   ]
  },
  {
   "cell_type": "markdown",
   "id": "QZ9D_R3BBst_",
   "metadata": {
    "id": "QZ9D_R3BBst_"
   },
   "source": [
    "<mark>resaltado</mark>  \n",
    "<font color=\"blue\"> color </font>"
   ]
  },
  {
   "cell_type": "markdown",
   "id": "a91386ca",
   "metadata": {
    "id": "a91386ca"
   },
   "source": [
    "### Ejercicio 4: Citas\n",
    "Incluye la siguiente cita:\n",
    "\n",
    "> La Ciencia de Datos es el petróleo del siglo XXI.\n",
    "\n",
    "En uno y dos niveles de cita"
   ]
  },
  {
   "cell_type": "markdown",
   "id": "e02b6117-403c-4d70-b399-77b907dfc140",
   "metadata": {},
   "source": [
    ">La Ciencia de Datos es el petróleo del siglo XXI."
   ]
  },
  {
   "cell_type": "markdown",
   "id": "136036a0-7918-47ca-a2c1-6fc87e0c529a",
   "metadata": {},
   "source": [
    ">La Ciencia de Datos es el petróleo del siglo XXI.\n",
    ">>La Ciencia de Datos es el petróleo del siglo XXI."
   ]
  },
  {
   "cell_type": "markdown",
   "id": "35f0595a",
   "metadata": {
    "id": "35f0595a"
   },
   "source": [
    "### Ejercicio 5: Combinando todo\n",
    "Crea un texto que combine lo siguiente:\n",
    "\n",
    "1. Una cabecera de nivel 2 con el texto \"Curso de Markdown\".\n",
    "2. Una frase que contenga la palabra \"importante\" en negritas.\n",
    "3. Una cita que diga: \"Aprender es crecer\".\n",
    "4. La palabra \"ejemplo\" en cursivas y con un fondo verde usando HTML.\n",
    "\n",
    "Nota: Si no has sido capaz de encontrar como dar color de fondo usando HTML quizás <span style=\"background-color:yellow\">*tienes que buscar más cerca de ti*</span>\n"
   ]
  },
  {
   "cell_type": "markdown",
   "id": "ee6fd8c2-f2aa-4b7a-9ba8-0a8dc957dfee",
   "metadata": {},
   "source": [
    "# Curso de Markdown\n",
    "Es un curso muy **importante** en el bootcamp.\n",
    ">aprender es crecer\n",
    "\n",
    "<span style=\"background-color:lightgreen\">*ejemplo*</span>"
   ]
  }
 ],
 "metadata": {
  "colab": {
   "provenance": []
  },
  "kernelspec": {
   "display_name": "Python 3 (ipykernel)",
   "language": "python",
   "name": "python3"
  },
  "language_info": {
   "codemirror_mode": {
    "name": "ipython",
    "version": 3
   },
   "file_extension": ".py",
   "mimetype": "text/x-python",
   "name": "python",
   "nbconvert_exporter": "python",
   "pygments_lexer": "ipython3",
   "version": "3.10.11"
  }
 },
 "nbformat": 4,
 "nbformat_minor": 5
}
