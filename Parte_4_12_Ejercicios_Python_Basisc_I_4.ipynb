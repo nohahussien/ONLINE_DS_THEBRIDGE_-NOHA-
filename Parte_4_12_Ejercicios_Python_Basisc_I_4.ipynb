{
  "cells": [
    {
      "cell_type": "markdown",
      "metadata": {
        "id": "7zDz61uMsT0i"
      },
      "source": [
        "![TheBridge_logo_RGB_color.jpg](attachment:TheBridge_logo_RGB_color.jpg)"
      ]
    },
    {
      "cell_type": "markdown",
      "metadata": {
        "id": "tin90KVHsT0n"
      },
      "source": [
        "![imagen](./img/ejercicios.png)"
      ]
    },
    {
      "cell_type": "markdown",
      "metadata": {
        "id": "poJ1A4KJsT0o"
      },
      "source": [
        "## EJERCICIOS PYTHON BASICO 4:\n",
        "## Funciones, métodos, listas"
      ]
    },
    {
      "cell_type": "markdown",
      "metadata": {
        "id": "paF1VEx1sT0p"
      },
      "source": [
        "Completa los siguiente ejercicios, la solución completa a los mismos se publicarán en el repo del curso a lo largo del sprint. En algunos ejercicios se muestra la solución final, para que puedas comprobar que lo has hecho bien, pero lo importante es el código que generes. ¡Vaaamos, a ello...!"
      ]
    },
    {
      "cell_type": "markdown",
      "metadata": {
        "id": "pfJ2ESYosT0p"
      },
      "source": [
        "![ejercicio.png](./img/ejercicio.png)\n",
        "\n",
        "## Ejercicio 1\n",
        "Para este ejercicio vamos a poner en práctica [las funciones built in](https://docs.python.org/3/library/functions.html).\n",
        "\n",
        "1. Calcula el máximo de la lista: [4, 6, 8, -1]\n",
        "2. Suma todos los elementos de la lista anterior\n",
        "3. Redondea este float a 3 dígitos decimales: 63.451256965\n",
        "4. Valor absoluto de: -74"
      ]
    },
    {
      "cell_type": "code",
      "execution_count": null,
      "metadata": {
        "id": "4Rj8jrf0sT0q"
      },
      "outputs": [],
      "source": [
        "Lista = [4, 6, 8, -1]\n",
        "el_maximo = max(Lista)\n",
        "print (\"el máximo de la lista es : \" , el_maximo)\n",
        "numeros = [int(num) for num in Lista]\n",
        "suma = sum(numeros)\n",
        "print (\"La suma total = \" , suma)\n",
        "print (\"El numero redondeado es : \" , round(63.451256965 , 3))\n",
        "print (\"el valor absoluto de -74 es : \", abs(-74))"
      ]
    },
    {
      "cell_type": "markdown",
      "metadata": {
        "id": "lIIotIoosT0r"
      },
      "source": [
        "![ejercicio.png](./img/ejercicio.png)\n",
        "\n",
        "## Ejercicio 2\n",
        "Para el siguiente string se pide imprimir por pantalla los siguientes casos\n",
        "\n",
        "    \"En un lugar de la Mancha, de cuyo nombre no quiero acordarme.\"\n",
        "\n",
        "1. Pásalo todo a mayúsculas\n",
        "2. Pásalo todo a minúsculas\n",
        "3. Solo la primera letra de cada palabra en mayúscula, el resto en minúscula\n",
        "4. Crea una lista dividiéndolo por sus espacios\n",
        "5. Sustituye las comas `,` por puntos y comas `;`\n",
        "6. Elimina las `a` minúsculas"
      ]
    },
    {
      "cell_type": "code",
      "execution_count": null,
      "metadata": {
        "id": "gWYqvY9ysT0r",
        "outputId": "4e1c3662-94c6-4892-f62b-f2eb4c1cb439"
      },
      "outputs": [
        {
          "name": "stdout",
          "output_type": "stream",
          "text": [
            "EN UN LUGAR DE LA MANCHA, DE CUYO NOMBRE NO QUIERO ACORDARME.\n",
            "en un lugar de la mancha, de cuyo nombre no quiero acordarme.\n",
            "En Un Lugar De La Mancha, De Cuyo Nombre No Quiero Acordarme.\n",
            "['En', 'un', 'lugar', 'de', 'la', 'Mancha,', 'de', 'cuyo', 'nombre', 'no', 'quiero', 'acordarme.']\n",
            "En un lugar de la Mancha; de cuyo nombre no quiero acordarme.\n",
            "En un lugr de l Mnch, de cuyo nombre no quiero cordrme.\n"
          ]
        }
      ],
      "source": [
        "entrada = \"En un lugar de la Mancha, de cuyo nombre no quiero acordarme.\"\n",
        "print (entrada.upper())\n",
        "print (entrada.lower())\n",
        "print (entrada.title())\n",
        "\n",
        "Lista1 = entrada.split(\" \")\n",
        "print (Lista1)\n",
        "Lista2 =[entrada.replace(\",\" , \";\")]\n",
        "print (Lista2)\n",
        "Lista3 =[entrada.replace(\"a\" , \"\")]\n",
        "\n",
        "print (Lista3)\n"
      ]
    },
    {
      "cell_type": "markdown",
      "metadata": {
        "id": "kRMQdWgSsT0s"
      },
      "source": [
        "![ejercicio.png](./img/ejercicio.png)\n",
        "\n",
        "## Ejercicio 3\n",
        "1. Crea una lista con 3 elementos numéricos\n",
        "2. Añade un cuarto elemento\n",
        "3. Calcula la suma de todos\n",
        "4. Elimina el segundo elemento de la lista\n",
        "5. Añade otro elemento en la posicion 3 de la lista\n",
        "6. Crea otra lista con 4 elementos y concaténala a la que ya tenías.\n",
        "7. Ordena la lista de menor a mayor.\n",
        "8. BONUS: Ordena la lista de mayor a menor.  \n",
        "(*PISTA: Para hacer 8, tendrás que buscar en la información del método...*)  \n",
        "  \n",
        "  \n",
        "NOTA: Pinta por pantalla el resultado de cada paso."
      ]
    },
    {
      "cell_type": "code",
      "execution_count": null,
      "metadata": {
        "id": "LvCj_cUOsT0t",
        "outputId": "40b819a1-58f5-4a54-eb3a-32eca20a1573"
      },
      "outputs": [
        {
          "name": "stdout",
          "output_type": "stream",
          "text": [
            "10\n",
            "[2, 3, 4]\n",
            "[2, 3, 5, 4]\n",
            "[2, 3, 5, 4, 6, 7, 8, 9]\n"
          ]
        }
      ],
      "source": [
        "Lista = [23 , 44 , 25.5]\n",
        "print (Lista)\n",
        "Lista.append(55)\n",
        "print (Lista)\n",
        "numeros = [float(num) for num in Lista]\n",
        "print (sum(numeros))\n",
        "Lista.pop(1)\n",
        "print (Lista)\n",
        "Lista[2] = 11\n",
        "print (Lista)\n",
        "Lista2 = [66 , 77 , 88, 99]\n",
        "print (Lista2)\n",
        "Lista3 = Lista + Lista2\n",
        "print (Lista3)\n",
        "Lista3.sort()\n",
        "print (Lista3)\n",
        "Lista3.sort(reverse = True)\n",
        "print (Lista3)\n"
      ]
    }
  ],
  "metadata": {
    "colab": {
      "provenance": []
    },
    "kernelspec": {
      "display_name": "Curso_Online_DATA",
      "language": "python",
      "name": "python3"
    },
    "language_info": {
      "codemirror_mode": {
        "name": "ipython",
        "version": 3
      },
      "file_extension": ".py",
      "mimetype": "text/x-python",
      "name": "python",
      "nbconvert_exporter": "python",
      "pygments_lexer": "ipython3",
      "version": "3.11.5"
    },
    "orig_nbformat": 4
  },
  "nbformat": 4,
  "nbformat_minor": 0
}
